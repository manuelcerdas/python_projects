{
 "cells": [
  {
   "cell_type": "markdown",
   "source": [
    "First I'm going to read the map as a JSON\r\n",
    "\r\n",
    "\r\n"
   ],
   "metadata": {}
  },
  {
   "cell_type": "markdown",
   "source": [],
   "metadata": {}
  },
  {
   "cell_type": "code",
   "execution_count": 58,
   "source": [
    "import json\r\n",
    "\r\n",
    "with open (\"Cantonal.geojson\") as f:\r\n",
    "    mapa = json.load (f)\r\n"
   ],
   "outputs": [],
   "metadata": {}
  },
  {
   "cell_type": "markdown",
   "source": [
    "Now I will create a Pandas dataframe, and in there I will store the province and canton names from the map"
   ],
   "metadata": {}
  },
  {
   "cell_type": "code",
   "execution_count": 59,
   "source": [
    "import pandas as pd\r\n",
    "\r\n",
    "df = pd.DataFrame(columns=[\"provincia\",\"cod_provin\",\"canton\",\"cod_canton\"])\r\n",
    "\r\n",
    "\r\n",
    "for item in mapa[\"features\"]:\r\n",
    "    df = df.append([\r\n",
    "        {\r\n",
    "            \"provincia\":item[\"properties\"][\"provincia\"],\r\n",
    "            \"cod_provin\":item[\"properties\"][\"cod_provin\"],\r\n",
    "            \"canton\":item[\"properties\"][\"canton\"],\r\n",
    "            \"cod_canton\":item[\"properties\"][\"cod_canton\"]\r\n",
    "        }],ignore_index=True)             \r\n",
    "\r\n"
   ],
   "outputs": [],
   "metadata": {}
  },
  {
   "cell_type": "markdown",
   "source": [
    "Exporto el dataframe a csv\r\n"
   ],
   "metadata": {}
  },
  {
   "cell_type": "code",
   "execution_count": 60,
   "source": [
    "df.to_csv(\"cantones.csv\")"
   ],
   "outputs": [],
   "metadata": {}
  }
 ],
 "metadata": {
  "orig_nbformat": 4,
  "language_info": {
   "name": "python",
   "version": "3.8.5",
   "mimetype": "text/x-python",
   "codemirror_mode": {
    "name": "ipython",
    "version": 3
   },
   "pygments_lexer": "ipython3",
   "nbconvert_exporter": "python",
   "file_extension": ".py"
  },
  "kernelspec": {
   "name": "python3",
   "display_name": "Python 3.8.5 64-bit ('base': conda)"
  },
  "interpreter": {
   "hash": "177b7a29190623893b140a1b8e636927b7b052410f4aa3e91113be33a465e364"
  }
 },
 "nbformat": 4,
 "nbformat_minor": 2
}